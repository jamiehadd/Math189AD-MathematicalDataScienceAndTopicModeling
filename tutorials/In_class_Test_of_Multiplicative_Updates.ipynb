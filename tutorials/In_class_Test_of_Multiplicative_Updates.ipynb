{
  "nbformat": 4,
  "nbformat_minor": 0,
  "metadata": {
    "colab": {
      "provenance": [],
      "authorship_tag": "ABX9TyNPGlxaDFgi5Lli4ndx69wK",
      "include_colab_link": true
    },
    "kernelspec": {
      "name": "python3",
      "display_name": "Python 3"
    },
    "language_info": {
      "name": "python"
    }
  },
  "cells": [
    {
      "cell_type": "markdown",
      "metadata": {
        "id": "view-in-github",
        "colab_type": "text"
      },
      "source": [
        "<a href=\"https://colab.research.google.com/github/jamiehadd/Math189AD-MathematicalDataScienceAndTopicModeling/blob/main/tutorials/In_class_Test_of_Multiplicative_Updates.ipynb\" target=\"_parent\"><img src=\"https://colab.research.google.com/assets/colab-badge.svg\" alt=\"Open In Colab\"/></a>"
      ]
    },
    {
      "cell_type": "markdown",
      "source": [
        "# In-Class Test of Multiplicative Updates Implementation\n",
        "\n",
        "Here we'll implement multiplicative updates and do a quick test of our in-class implementation!"
      ],
      "metadata": {
        "id": "lLDWZcaUkU6x"
      }
    },
    {
      "cell_type": "code",
      "source": [
        "import numpy as np\n",
        "import matplotlib.pyplot as plt"
      ],
      "metadata": {
        "id": "zGYq0rg3kqEj"
      },
      "execution_count": null,
      "outputs": []
    },
    {
      "cell_type": "markdown",
      "source": [
        "First, we'll build a small synthetic dataset that we know should factorize very well via NMF!"
      ],
      "metadata": {
        "id": "KPFMykPCkhsB"
      }
    },
    {
      "cell_type": "code",
      "execution_count": null,
      "metadata": {
        "id": "irp4R8XqkNP2"
      },
      "outputs": [],
      "source": [
        "m = 100\n",
        "N = 75\n",
        "k = 10\n",
        "\n",
        "A_actual = np.abs(np.random.randn(m,k))\n",
        "S_actual = np.abs(np.random.randn(k,N))\n",
        "\n",
        "X = A_actual@S_actual"
      ]
    },
    {
      "cell_type": "markdown",
      "source": [
        "Now, we'll implement multiplicative updates!\n",
        "\n",
        "***Task:*** Fill in the missing code with the necessary updates!"
      ],
      "metadata": {
        "id": "IIAksaoyk640"
      }
    },
    {
      "cell_type": "markdown",
      "source": [
        "**Note:** In NumPy, we use `*` for element-wise array multiplication and `@` for usual matrix multiplication.  When in doubt, consider checking the shape of the arrays you are multiplying and the product array your multiplication produces!  You can use `np.shape(X)` to check the size of `X`."
      ],
      "metadata": {
        "id": "9rQr4aHiyP3N"
      }
    },
    {
      "cell_type": "code",
      "source": [
        "def mult_ups(X, k, M = 10):\n",
        "  eps_divide = 1e-6                                                 #define a small number to ensure we never divide by 0\n",
        "  m,N = np.shape(X)                                                 #determine the size of X for initializing A and S\n",
        "\n",
        "  if M < 1:\n",
        "    raise Exception(\"Not a valid number of iterations.\")            #error if number of iterations is less than 1\n",
        "\n",
        "  A = np.abs(np.random.randn(m,k))                                  #initialize factor matrices\n",
        "  S = np.abs(np.random.randn(k,N))\n",
        "\n",
        "  errors = [np.linalg.norm(X-A@S,'fro')**2]                          #initialize error array\n",
        "\n",
        "  for i in range(M):\n",
        "    A = #YOUR CODE HERE                                                       #update for A\n",
        "    S = #YOUR CODE HERE                                                       #update for S\n",
        "\n",
        "    errors.append(np.linalg.norm(X-A@S,'fro')**2)                    #record error\n",
        "\n",
        "  return A, S, errors"
      ],
      "metadata": {
        "id": "0hidPvWKlC0r"
      },
      "execution_count": null,
      "outputs": []
    },
    {
      "cell_type": "code",
      "source": [
        "#this block will run without error if your implementation is correct\n",
        "np.random.seed(10)\n",
        "A,S,errs = mult_ups([[4,2],[2,4]],1,M=1)\n",
        "np.testing.assert_allclose(np.round(A,decimals=8),np.array([[2.59526984],[1.30816557]]))\n",
        "np.testing.assert_allclose(np.round(S,decimals=8),np.array([[1.53875177, 1.2339762 ]]))"
      ],
      "metadata": {
        "id": "XKMGWFjtzYSZ"
      },
      "execution_count": null,
      "outputs": []
    },
    {
      "cell_type": "markdown",
      "source": [
        "Next, we'll train an NMF model of rank 10 on this dataset and visualize the NMF error at each iteration of our implementation of multiplicative updates."
      ],
      "metadata": {
        "id": "fSwxu0WOk2XC"
      }
    },
    {
      "cell_type": "code",
      "source": [
        "M = 10000                                                              #declare number of iterations\n",
        "newA,newS,errs = mult_ups(X,10,M)                                #train the model"
      ],
      "metadata": {
        "id": "aU58pWIDk1EU",
        "colab": {
          "base_uri": "https://localhost:8080/",
          "height": 203
        },
        "outputId": "93ae2353-89f9-4078-97a3-f2d762f89762"
      },
      "execution_count": null,
      "outputs": [
        {
          "output_type": "error",
          "ename": "NameError",
          "evalue": "ignored",
          "traceback": [
            "\u001b[0;31m---------------------------------------------------------------------------\u001b[0m",
            "\u001b[0;31mNameError\u001b[0m                                 Traceback (most recent call last)",
            "\u001b[0;32m<ipython-input-1-6fbdd0a8bcad>\u001b[0m in \u001b[0;36m<module>\u001b[0;34m\u001b[0m\n\u001b[1;32m      1\u001b[0m \u001b[0mM\u001b[0m \u001b[0;34m=\u001b[0m \u001b[0;36m10000\u001b[0m                                                              \u001b[0;31m#declare number of iterations\u001b[0m\u001b[0;34m\u001b[0m\u001b[0;34m\u001b[0m\u001b[0m\n\u001b[1;32m      2\u001b[0m \u001b[0malpha\u001b[0m \u001b[0;34m=\u001b[0m \u001b[0;36m1\u001b[0m\u001b[0;34m\u001b[0m\u001b[0;34m\u001b[0m\u001b[0m\n\u001b[0;32m----> 3\u001b[0;31m \u001b[0mnewA\u001b[0m\u001b[0;34m,\u001b[0m\u001b[0mnewS\u001b[0m\u001b[0;34m,\u001b[0m\u001b[0merrs\u001b[0m \u001b[0;34m=\u001b[0m \u001b[0mmult_ups\u001b[0m\u001b[0;34m(\u001b[0m\u001b[0mX\u001b[0m\u001b[0;34m,\u001b[0m\u001b[0;36m10\u001b[0m\u001b[0;34m,\u001b[0m\u001b[0malpha\u001b[0m\u001b[0;34m,\u001b[0m\u001b[0mM\u001b[0m\u001b[0;34m)\u001b[0m                                \u001b[0;31m#train the model\u001b[0m\u001b[0;34m\u001b[0m\u001b[0;34m\u001b[0m\u001b[0m\n\u001b[0m",
            "\u001b[0;31mNameError\u001b[0m: name 'mult_ups' is not defined"
          ]
        }
      ]
    },
    {
      "cell_type": "code",
      "source": [
        "plt.figure(figsize=[10,10])\n",
        "\n",
        "plt.suptitle(\"NMF Errors throughout Multiplicative Updates Iterations\");\n",
        "plt.semilogy(range(1,M+2),errs)                                                  #plot the error\n",
        "plt.xlabel(\"iteration, $n$\");\n",
        "plt.ylabel(\"model error, $\\|X - AS\\|_F^2$\");"
      ],
      "metadata": {
        "id": "i76eUyMIlo8q"
      },
      "execution_count": null,
      "outputs": []
    }
  ]
}