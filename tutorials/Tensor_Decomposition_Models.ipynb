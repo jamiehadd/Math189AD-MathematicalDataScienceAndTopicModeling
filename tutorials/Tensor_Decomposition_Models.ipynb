{
  "nbformat": 4,
  "nbformat_minor": 0,
  "metadata": {
    "colab": {
      "provenance": [],
      "authorship_tag": "ABX9TyP+Jsp/+gIjT4EAenS2dL0u",
      "include_colab_link": true
    },
    "kernelspec": {
      "name": "python3",
      "display_name": "Python 3"
    },
    "language_info": {
      "name": "python"
    }
  },
  "cells": [
    {
      "cell_type": "markdown",
      "metadata": {
        "id": "view-in-github",
        "colab_type": "text"
      },
      "source": [
        "<a href=\"https://colab.research.google.com/github/jamiehadd/Math189AD-MathematicalDataScienceAndTopicModeling/blob/main/tutorials/Tensor_Decomposition_Models.ipynb\" target=\"_parent\"><img src=\"https://colab.research.google.com/assets/colab-badge.svg\" alt=\"Open In Colab\"/></a>"
      ]
    },
    {
      "cell_type": "markdown",
      "source": [
        "# Tensor Decomposition Models\n",
        "\n",
        "In this notebook, we'll investigate tensor structure and the CP decomposition model."
      ],
      "metadata": {
        "id": "nux6EA7vnVEj"
      }
    },
    {
      "cell_type": "markdown",
      "source": [
        "## **Activity**\n",
        "\n",
        "In this notebook, we'll explore the CP decomposition on a real-world dataset. You'll then have the opportunity to explore these models and applications on a new data set!  You should try to select a dataset where you believe the outputs from these models will be interpretable and visualizable!"
      ],
      "metadata": {
        "id": "c2snL7jY3_t_"
      }
    },
    {
      "cell_type": "markdown",
      "source": [
        "### Tasks\n",
        "\n",
        "* Explore the code below for executing and investigating a CP decomposition on a real-world dataset!\n",
        "* Select a dataset and investigate it -- what are the elements and entries?  Try visualizing the data in various formats (e.g., heatmaps, histograms/counts of values, visualizing individual elements, etc.).\n",
        "* Apply a CP decomposition model to the data.  You can simply select a choice for the model rank R like above, or you can try to select it systematically like we did in the NMF live script (using the error plot).\n",
        "* Create some summative visualizations of the results -- think about what visualizations best serve what you have observed/want to show about the results!"
      ],
      "metadata": {
        "id": "tCmCLlHV4DHY"
      }
    },
    {
      "cell_type": "markdown",
      "source": [
        "### Downloading Software\n",
        "\n",
        "We'll be using a Python package known as [TensorLy](http://tensorly.org/stable/index.html), which contains many useful functions for dealing with tensors and their decompositions.  We'll also need a package called Sparse that TensorLy is dependent upon."
      ],
      "metadata": {
        "id": "CrocjcCaEchH"
      }
    },
    {
      "cell_type": "code",
      "source": [
        "pip install -U tensorly"
      ],
      "metadata": {
        "id": "N3qBX9vprGz4"
      },
      "execution_count": null,
      "outputs": []
    },
    {
      "cell_type": "code",
      "source": [
        "pip install sparse"
      ],
      "metadata": {
        "id": "eEhcNaC3xB94"
      },
      "execution_count": null,
      "outputs": []
    },
    {
      "cell_type": "code",
      "source": [
        "import tensorly as tl\n",
        "import numpy as np\n",
        "import sparse\n",
        "import pandas as pd\n",
        "import tensorly.contrib.sparse as stl\n",
        "from tensorly.contrib.sparse.decomposition import parafac\n",
        "import matplotlib.pyplot as plt"
      ],
      "metadata": {
        "id": "KwaaiwBctdtu"
      },
      "execution_count": null,
      "outputs": []
    },
    {
      "cell_type": "markdown",
      "source": [
        "### Loading Data\n",
        "\n",
        "We're working here with a data set consisting of six months of Uber pickup data in New York City, provided by [fivethirtyeight](https://www.kaggle.com/datasets/fivethirtyeight/uber-pickups-in-new-york-city) after a Freedom of Information request. Data covers April 2014 through August 2014. Latitude and Longitude values are rounded to three decimal places (i.e., 110 meters of resolution). Tensor values are integer counts.  This data is 183 x 24 x 1,140 x 1,717 (days x hours x latitude x longitude)."
      ],
      "metadata": {
        "id": "foveEJ2_nds7"
      }
    },
    {
      "cell_type": "code",
      "execution_count": null,
      "metadata": {
        "id": "n4y7XZq6nRD9"
      },
      "outputs": [],
      "source": [
        "from google.colab import drive\n",
        "drive.mount('/content/drive')"
      ]
    },
    {
      "cell_type": "code",
      "source": [
        "cd '/content/drive/Shareddrives/Math 189AD FA22: Datasets'"
      ],
      "metadata": {
        "id": "Gv_FK5tOsLac"
      },
      "execution_count": null,
      "outputs": []
    },
    {
      "cell_type": "code",
      "source": [
        "def load_data(path):\n",
        "    \"\"\"Load the sparse tensor dataset at `path`\"\"\"\n",
        "    values = []\n",
        "    coords = []\n",
        "    with open(path, 'rb') as f:\n",
        "        for line in f:\n",
        "            data = line.strip().split(b' ')\n",
        "            coords.append([int(i) - 1 for i in data[:-1]])\n",
        "            values.append(float(data[-1]))\n",
        "    coords = np.array(coords, dtype=np.int64).T\n",
        "    values = np.array(values, dtype=np.float64)\n",
        "    return sparse.COO(coords, data=values)"
      ],
      "metadata": {
        "id": "4SkcpPxHsd0g"
      },
      "execution_count": null,
      "outputs": []
    },
    {
      "cell_type": "code",
      "source": [
        "tensor = load_data('uber.tns')"
      ],
      "metadata": {
        "id": "4cVDtBIvuwzf"
      },
      "execution_count": null,
      "outputs": []
    },
    {
      "cell_type": "markdown",
      "source": [
        "### Training a CP Model\n",
        "\n",
        "Now we will train a rank-three CP decomposition model on the tensor of data we've constructed.\n",
        "\n"
      ],
      "metadata": {
        "id": "Qvo3msMnxpse"
      }
    },
    {
      "cell_type": "code",
      "source": [
        "tensorly_tensor = stl.tensor(tensor, dtype='float')\n",
        "\n",
        "weights, factors =parafac(tensorly_tensor, 3,n_iter_max=10,init='random')"
      ],
      "metadata": {
        "id": "NTsWMsqqwwFC"
      },
      "execution_count": null,
      "outputs": []
    },
    {
      "cell_type": "markdown",
      "source": [
        "The factor matrices are now held in `factors`."
      ],
      "metadata": {
        "id": "eoyAcQNa3hpR"
      }
    },
    {
      "cell_type": "markdown",
      "source": [
        "### Investigating the Decomposition Results\n",
        "\n",
        "We will visualize the information from the tensor decomposition to understand patterns within the data.  First, it is important to note the dimensions of the factor matrices so we are sure which modes of the tensor they correspond to."
      ],
      "metadata": {
        "id": "OX1lMHIU3l0J"
      }
    },
    {
      "cell_type": "code",
      "source": [
        "days_factor = factors[0].todense()\n",
        "hours_factor = factors[1].todense()\n",
        "lat_factor = factors[2].todense()\n",
        "long_factor = factors[3].todense()\n",
        "\n",
        "print(np.shape(days_factor))\n",
        "print(np.shape(hours_factor))\n",
        "print(np.shape(lat_factor))\n",
        "print(np.shape(long_factor))"
      ],
      "metadata": {
        "id": "x-ZtqbmT3iKb"
      },
      "execution_count": null,
      "outputs": []
    },
    {
      "cell_type": "markdown",
      "source": [
        "Check that you recognize the row dimension of each of these four factor matrices!"
      ],
      "metadata": {
        "id": "i6glWZQm3rqp"
      }
    },
    {
      "cell_type": "markdown",
      "source": [
        "The row dimension of the first factor matrix corresponds to the 183 days of April - September 2014.  Let's plot the intensity of the columns in this factor matrix as time series."
      ],
      "metadata": {
        "id": "aXD_L01e3u6B"
      }
    },
    {
      "cell_type": "code",
      "source": [
        "plt.figure(figsize=[15,10])\n",
        "\n",
        "plt.suptitle(\"Day Components\")\n",
        "plt.subplot(3,1,1);\n",
        "plt.plot(days_factor[:,0])\n",
        "plt.title(\"First Component\")\n",
        "\n",
        "plt.subplot(3,1,2);\n",
        "plt.plot(days_factor[:,1])\n",
        "plt.title(\"Second Component\")\n",
        "\n",
        "plt.subplot(3,1,3);\n",
        "plt.plot(days_factor[:,2])\n",
        "plt.title(\"Third Component\")"
      ],
      "metadata": {
        "id": "8VHAVw6H3xVx"
      },
      "execution_count": null,
      "outputs": []
    },
    {
      "cell_type": "markdown",
      "source": [
        "The row dimension of the second factor matrix corresponds to the 24 hours of the day.  Let's again plot the intensity of the columns in this factor matrix as time series."
      ],
      "metadata": {
        "id": "yktxc4mA30T4"
      }
    },
    {
      "cell_type": "code",
      "source": [
        "plt.figure(figsize=[15,10])\n",
        "\n",
        "plt.suptitle(\"Hour Components\")\n",
        "plt.subplot(3,1,1);\n",
        "plt.plot(hours_factor[:,0])\n",
        "plt.title(\"First Component\")\n",
        "\n",
        "plt.subplot(3,1,2);\n",
        "plt.plot(hours_factor[:,1])\n",
        "plt.title(\"Second Component\")\n",
        "\n",
        "plt.subplot(3,1,3);\n",
        "plt.plot(hours_factor[:,2])\n",
        "plt.title(\"Third Component\")"
      ],
      "metadata": {
        "id": "jFXFw_AJ3260"
      },
      "execution_count": null,
      "outputs": []
    },
    {
      "cell_type": "markdown",
      "source": [
        "Finally, the row dimensions of the remaining factor matrices correspond to latitude and longitude of the Uber pickup.  Since this is two dimensional data, we can visualize this data together.  We will form heatmaps of the shared latitude and longitude intensity (by taking the outer product of the two factors)."
      ],
      "metadata": {
        "id": "A9dibcH336PI"
      }
    },
    {
      "cell_type": "code",
      "source": [
        "plt.figure(figsize=[15,4])\n",
        "\n",
        "plt.suptitle(\"Geographic Components\")\n",
        "plt.subplot(1,3,1);\n",
        "plt.imshow(np.outer(lat_factor[:,0],long_factor[:,0]))\n",
        "plt.title(\"First Component\")\n",
        "\n",
        "plt.subplot(1,3,2);\n",
        "plt.imshow(np.outer(lat_factor[:,1],long_factor[:,1]))\n",
        "plt.title(\"Second Component\")\n",
        "\n",
        "plt.subplot(1,3,3);\n",
        "plt.imshow(np.outer(lat_factor[:,2],long_factor[:,2]))\n",
        "plt.title(\"Third Component\")\n",
        "\n",
        "plt.colorbar()"
      ],
      "metadata": {
        "id": "eNYYaSq538p2"
      },
      "execution_count": null,
      "outputs": []
    }
  ]
}