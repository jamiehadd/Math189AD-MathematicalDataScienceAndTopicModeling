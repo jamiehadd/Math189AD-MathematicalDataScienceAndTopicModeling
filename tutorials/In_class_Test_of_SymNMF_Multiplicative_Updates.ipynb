{
  "nbformat": 4,
  "nbformat_minor": 0,
  "metadata": {
    "colab": {
      "provenance": [],
      "authorship_tag": "ABX9TyOnADYIsa6VEwKm7iEQNJLv",
      "include_colab_link": true
    },
    "kernelspec": {
      "name": "python3",
      "display_name": "Python 3"
    },
    "language_info": {
      "name": "python"
    }
  },
  "cells": [
    {
      "cell_type": "markdown",
      "metadata": {
        "id": "view-in-github",
        "colab_type": "text"
      },
      "source": [
        "<a href=\"https://colab.research.google.com/github/jamiehadd/Math189AD-MathematicalDataScienceAndTopicModeling/blob/main/tutorials/In_class_Test_of_SymNMF_Multiplicative_Updates.ipynb\" target=\"_parent\"><img src=\"https://colab.research.google.com/assets/colab-badge.svg\" alt=\"Open In Colab\"/></a>"
      ]
    },
    {
      "cell_type": "markdown",
      "source": [
        "# In-Class Test of SymNMF Multiplicative Updates Implementation\n",
        "\n",
        "Here we'll implement multiplicative updates and do a quick test of our in-class SymNMF implementation!"
      ],
      "metadata": {
        "id": "ValjW_MdzNsG"
      }
    },
    {
      "cell_type": "code",
      "execution_count": null,
      "metadata": {
        "id": "cJuBiW46zF9b"
      },
      "outputs": [],
      "source": [
        "import numpy as np\n",
        "import matplotlib.pyplot as plt"
      ]
    },
    {
      "cell_type": "markdown",
      "source": [
        "First, we'll build a small synthetic dataset that we know should factorize very well via SymNMF!"
      ],
      "metadata": {
        "id": "TQYpiEcOzhqr"
      }
    },
    {
      "cell_type": "code",
      "source": [
        "n = 100\n",
        "k = 10\n",
        "\n",
        "H_actual = np.abs(np.random.randn(n,k))\n",
        "A = H_actual@np.transpose(H_actual)"
      ],
      "metadata": {
        "id": "VIaD2TDKzZSM"
      },
      "execution_count": null,
      "outputs": []
    },
    {
      "cell_type": "markdown",
      "source": [
        "Now, we'll implement SymNMF multiplicative updates!\n",
        "\n",
        "***Task:*** Fill in the missing code with the necessary updates!"
      ],
      "metadata": {
        "id": "U6rlmDhwz-7W"
      }
    },
    {
      "cell_type": "markdown",
      "source": [
        "**Note:** In NumPy, we use `*` for element-wise array multiplication and `@` for usual matrix multiplication.  When in doubt, consider checking the shape of the arrays you are multiplying and the product array your multiplication produces!  You can use `np.shape(X)` to check the size of `X`."
      ],
      "metadata": {
        "id": "Xlw0JnnH0EkI"
      }
    },
    {
      "cell_type": "code",
      "source": [
        "def sym_mult_ups(A, k, alpha = 1, M = 10):\n",
        "  eps_divide = 1e-6                                                 #define a small number to ensure we never divide by 0\n",
        "  n,n = np.shape(A)                                                 #determine the size of X for initializing A and S\n",
        "\n",
        "  if M < 1:\n",
        "    raise Exception(\"Not a valid number of iterations.\")            #error if number of iterations is less than 1\n",
        "  if alpha < 0:\n",
        "    raise Exception(\"Not a valid alpha hyperparameter.\")\n",
        "\n",
        "  W = np.abs(np.random.randn(n,k))                                  #initialize factor matrices\n",
        "  H = np.abs(np.random.randn(k,n))\n",
        "\n",
        "  errors = [np.linalg.norm(A-np.transpose(H)@H,'fro')**2]           #initialize error array\n",
        "\n",
        "  for i in range(M):\n",
        "    Abar = np.vstack((A,np.sqrt(alpha)*np.transpose(W)))\n",
        "    Wbar = np.vstack((W,np.sqrt(alpha)*np.eye(k)))\n",
        "\n",
        "    H = #YOUR CODE HERE\n",
        "                                                                    #update for H\n",
        "    W = np.transpose(H)                                             #update W\n",
        "\n",
        "    errors.append(np.linalg.norm(A-np.transpose(H)@H,'fro')**2)     #record error\n",
        "\n",
        "  return np.transpose(H), errors"
      ],
      "metadata": {
        "id": "3fulzZ30z3Zn"
      },
      "execution_count": null,
      "outputs": []
    },
    {
      "cell_type": "code",
      "source": [
        "#this block will run without error if your implementation is correct\n",
        "np.random.seed(10)\n",
        "H,errs = sym_mult_ups([[4,2],[2,4]],1,M=1)\n",
        "np.testing.assert_allclose(np.round(H,decimals=8),np.array([[2.46243969 ],[1.89955835]]))"
      ],
      "metadata": {
        "id": "NUQ3j3FMkjkD"
      },
      "execution_count": null,
      "outputs": []
    },
    {
      "cell_type": "markdown",
      "source": [
        "Next, we'll train a SymNMF model of rank 10 on this dataset and visualize the error at each iteration of our implementation of multiplicative updates."
      ],
      "metadata": {
        "id": "KMiw3joM-D93"
      }
    },
    {
      "cell_type": "code",
      "source": [
        "M = 10000                                                        #declare number of iterations\n",
        "alpha = 1\n",
        "newH,errs = sym_mult_ups(A,10,alpha,M)                      #train the model"
      ],
      "metadata": {
        "id": "zkk-OoqClJbw"
      },
      "execution_count": null,
      "outputs": []
    },
    {
      "cell_type": "code",
      "source": [
        "plt.figure(figsize=[10,10])\n",
        "\n",
        "plt.suptitle(\"SymNMF Errors throughout Multiplicative Updates Iterations\");\n",
        "plt.semilogy(range(1,M+2),errs)                                                  #plot the error\n",
        "plt.xlabel(\"iteration, $n$\");\n",
        "plt.ylabel(\"model error, $\\|A - HH^T\\|_F^2$\");"
      ],
      "metadata": {
        "id": "0B27yyvJ9OmW"
      },
      "execution_count": null,
      "outputs": []
    }
  ]
}