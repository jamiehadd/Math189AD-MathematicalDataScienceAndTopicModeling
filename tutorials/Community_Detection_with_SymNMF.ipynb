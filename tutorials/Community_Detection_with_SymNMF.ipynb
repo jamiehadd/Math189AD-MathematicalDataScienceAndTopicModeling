{
  "nbformat": 4,
  "nbformat_minor": 0,
  "metadata": {
    "colab": {
      "provenance": [],
      "authorship_tag": "ABX9TyMWV7RJ64EaUl5j6QPSO2B5",
      "include_colab_link": true
    },
    "kernelspec": {
      "name": "python3",
      "display_name": "Python 3"
    },
    "language_info": {
      "name": "python"
    }
  },
  "cells": [
    {
      "cell_type": "markdown",
      "metadata": {
        "id": "view-in-github",
        "colab_type": "text"
      },
      "source": [
        "<a href=\"https://colab.research.google.com/github/jamiehadd/Math189AD-MathematicalDataScienceAndTopicModeling/blob/main/tutorials/Community_Detection_with_SymNMF.ipynb\" target=\"_parent\"><img src=\"https://colab.research.google.com/assets/colab-badge.svg\" alt=\"Open In Colab\"/></a>"
      ]
    },
    {
      "cell_type": "markdown",
      "source": [
        "# Math 189: Community Detection with SymNMF\n",
        "\n",
        "In this notebook, we'll use our implementation of multiplicative updates for SymNMF to learn communities in a classical example for network analysis, Zachary's Karate Club!  This activity is adapted from a blog post from Toshi Takeuchi."
      ],
      "metadata": {
        "id": "dex29BucCvqV"
      }
    },
    {
      "cell_type": "markdown",
      "source": [
        "##**Activity**\n",
        "\n",
        "We’re going to apply [an implementation](https://github.com/jamiehadd/Math189AD-MathematicalDataScienceAndTopicModeling/blob/main/sym_mult_ups.py) of multiplicative updates to train SymNMF on a standard dataset for community detection."
      ],
      "metadata": {
        "id": "iFZDLiaaC4tR"
      }
    },
    {
      "cell_type": "markdown",
      "source": [
        "### Tasks\n",
        "\n",
        "* Fill in any missing update code in our implementation of multiplicative updates.\n",
        "* Run SymNMF on the Zachary Karate Club data and visualize the output.\n",
        "* Run spectral clustering on the Zachary Karate Club data and visualize the output.\n",
        "* There is lots of interesting network data out there for community detection!  Consider trying a different network (note that NetworkX has lots of cool examples built-in to their package)."
      ],
      "metadata": {
        "id": "3IEJxwM7DLFq"
      }
    },
    {
      "cell_type": "markdown",
      "source": [
        "##**Zachary's Karate Club**\n",
        "\n",
        "The [Zachary's Karate Club](http://networkdata.ics.uci.edu/netdata/html/zacharyKarate.html) dataset contains a friendship network of 34 members of a karate club at a US university in the 1970s. No one knows exactly what happened, but [a dispute that erupted in this club eventually caused it to break up into two groups](https://books.google.com/books?id=atfCl2agdi8C&pg=PA64#v=onepage&q&f=false). Does the friendship network give enough information to predict how the group split?"
      ],
      "metadata": {
        "id": "fdYHDgOkDavt"
      }
    },
    {
      "cell_type": "code",
      "execution_count": null,
      "metadata": {
        "id": "8Eusf7SUCqf5"
      },
      "outputs": [],
      "source": [
        "import scipy.io\n",
        "import numpy as np\n",
        "import matplotlib.pyplot as plt\n",
        "import networkx as nx"
      ]
    },
    {
      "cell_type": "code",
      "source": [
        "url=\"https://raw.githubusercontent.com/jamiehadd/Math189AD-MathematicalDataScienceAndTopicModeling/main/sym_mult_ups.py\"\n",
        "!wget --no-cache --backups=1 {url}\n",
        "from sym_mult_ups import sym_mult_ups"
      ],
      "metadata": {
        "id": "UlhKpNguFeBC"
      },
      "execution_count": null,
      "outputs": []
    },
    {
      "cell_type": "markdown",
      "source": [
        "We'll visualize this network before we get to work determining the community structure."
      ],
      "metadata": {
        "id": "aQLLe9ufuMOk"
      }
    },
    {
      "cell_type": "code",
      "source": [
        "G = nx.karate_club_graph()\n",
        "\n",
        "pos = nx.spring_layout(G, seed = 2)\n",
        "nx.draw(G, pos, with_labels=True)\n",
        "plt.title('Zacharys Karate Club')\n",
        "plt.show()"
      ],
      "metadata": {
        "id": "VzMet0PtFjhJ"
      },
      "execution_count": null,
      "outputs": []
    },
    {
      "cell_type": "markdown",
      "source": [
        "Let's take a look at the adjacency matrix for this network!"
      ],
      "metadata": {
        "id": "FsHJP6IIuqeS"
      }
    },
    {
      "cell_type": "code",
      "source": [
        "A = nx.adjacency_matrix(G).todense()\n",
        "\n",
        "plt.imshow(A)"
      ],
      "metadata": {
        "id": "bPqRPjPcukFq"
      },
      "execution_count": null,
      "outputs": []
    },
    {
      "cell_type": "markdown",
      "source": [
        "The eventual break-up produced two groups.  Let's visualize how the group broke up!"
      ],
      "metadata": {
        "id": "ffvPGO6yvJg3"
      }
    },
    {
      "cell_type": "code",
      "source": [
        "G1nodes = np.array([1, 2, 3, 4, 5, 6, 7, 8, 9,11, 12, 13, 14, 17, 18, 20, 22])        # Node 1's group\n",
        "G1nodes_python = G1nodes - 1\n",
        "pos = nx.spring_layout(G, seed = 2)\n",
        "\n",
        "# nodes\n",
        "nx.draw_networkx_nodes(G, pos, node_color=\"tab:red\")\n",
        "nx.draw_networkx_nodes(G, pos, nodelist=G1nodes_python, node_color=\"tab:blue\")\n",
        "\n",
        "# edges\n",
        "nx.draw_networkx_edges(G, pos, width=1.0, alpha=0.5)\n",
        "\n",
        "plt.title('The club broke up in two groups')\n",
        "plt.show()"
      ],
      "metadata": {
        "id": "rmsL9Ikuu1X7"
      },
      "execution_count": null,
      "outputs": []
    },
    {
      "cell_type": "markdown",
      "source": [
        "##**SymNMF Community Detection**\n",
        "\n",
        "Let's see if SymNMF can predict these two groups!"
      ],
      "metadata": {
        "id": "BZSZxFyEyeQQ"
      }
    },
    {
      "cell_type": "code",
      "source": [
        "M = 10000    #declare number of iterations\n",
        "alpha = 1\n",
        "newH,errs = sym_mult_ups(A,2,alpha,M)"
      ],
      "metadata": {
        "id": "0z4wCrgkv8mp"
      },
      "execution_count": null,
      "outputs": []
    },
    {
      "cell_type": "code",
      "source": [
        "plt.imshow(newH)"
      ],
      "metadata": {
        "id": "T846ElEWy3Lu"
      },
      "execution_count": null,
      "outputs": []
    },
    {
      "cell_type": "code",
      "source": [
        "comm1nodes = np.where(newH[:,0] - newH[:,1] > 0)\n",
        "print('Community 1: ', comm1nodes[0]+1)\n",
        "comm2nodes = np.where(newH[:,0] - newH[:,1] < 0)\n",
        "print('Community 2: ', comm2nodes[0]+1)"
      ],
      "metadata": {
        "id": "QUpYTdmervW5"
      },
      "execution_count": null,
      "outputs": []
    },
    {
      "cell_type": "code",
      "source": [
        "pos = nx.spring_layout(G, seed = 2)\n",
        "\n",
        "# nodes\n",
        "nx.draw_networkx_nodes(G, pos, node_color=\"tab:red\")\n",
        "nx.draw_networkx_nodes(G, pos, nodelist=comm1nodes[0], node_color=\"tab:blue\")\n",
        "\n",
        "# edges\n",
        "nx.draw_networkx_edges(G, pos, width=1.0, alpha=0.5)\n",
        "\n",
        "plt.title('SymNMF predicted communities')\n",
        "plt.show()"
      ],
      "metadata": {
        "id": "yjknPqHYsHLm"
      },
      "execution_count": null,
      "outputs": []
    },
    {
      "cell_type": "markdown",
      "source": [
        "##**Spectral Clustering Community Detection**\n",
        "\n",
        "Now, let's see if spectral clustering can detect these groups!  We use intuition from class that the second eigenvector contains sign information correlated with the groups."
      ],
      "metadata": {
        "id": "dkccO1INtujt"
      }
    },
    {
      "cell_type": "code",
      "source": [
        "vals, vecs = np.linalg.eig(A)"
      ],
      "metadata": {
        "id": "t9iuXDVRtLMR"
      },
      "execution_count": null,
      "outputs": []
    },
    {
      "cell_type": "code",
      "source": [
        "plt.imshow(np.real(vecs[:,1]))"
      ],
      "metadata": {
        "id": "_l7DcEUqudTY"
      },
      "execution_count": null,
      "outputs": []
    },
    {
      "cell_type": "code",
      "source": [
        "comm1nodes = np.where(vecs[:,1] > 0)\n",
        "print('Community 1: ', comm1nodes[0]+1)\n",
        "comm2nodes = np.where(vecs[:,1] < 0)\n",
        "print('Community 2: ', comm2nodes[0]+1)"
      ],
      "metadata": {
        "id": "amvYLEr1uCIi"
      },
      "execution_count": null,
      "outputs": []
    },
    {
      "cell_type": "code",
      "source": [
        "pos = nx.spring_layout(G, seed = 2)\n",
        "\n",
        "# nodes\n",
        "nx.draw_networkx_nodes(G, pos, node_color=\"tab:red\")\n",
        "nx.draw_networkx_nodes(G, pos, nodelist=comm1nodes[0], node_color=\"tab:blue\")\n",
        "\n",
        "# edges\n",
        "nx.draw_networkx_edges(G, pos, width=1.0, alpha=0.5)\n",
        "\n",
        "plt.title('Spectral Clustering predicted communities')\n",
        "plt.show()"
      ],
      "metadata": {
        "id": "4biwo3oCuOey"
      },
      "execution_count": null,
      "outputs": []
    }
  ]
}