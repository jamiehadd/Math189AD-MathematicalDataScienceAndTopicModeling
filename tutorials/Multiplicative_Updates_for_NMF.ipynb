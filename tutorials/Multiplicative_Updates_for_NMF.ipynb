{
  "cells": [
    {
      "cell_type": "markdown",
      "metadata": {
        "id": "view-in-github",
        "colab_type": "text"
      },
      "source": [
        "<a href=\"https://colab.research.google.com/github/jamiehadd/Math189AD-MathematicalDataScienceAndTopicModeling/blob/main/tutorials/Multiplicative_Updates_for_NMF.ipynb\" target=\"_parent\"><img src=\"https://colab.research.google.com/assets/colab-badge.svg\" alt=\"Open In Colab\"/></a>"
      ]
    },
    {
      "cell_type": "markdown",
      "metadata": {
        "id": "DLaaWzitOS0B"
      },
      "source": [
        "# Math 189: Multiplicative Updates for NMF\n",
        "\n",
        "In this notebook, we'll compare an implementation of multiplicative updates to the built-in scikit-learn version on a toy dataset. (Check out this implementation vs. the one you created in class!)"
      ]
    },
    {
      "cell_type": "markdown",
      "metadata": {
        "id": "sDSm1H3OOtmL"
      },
      "source": [
        "##**Activity**\n",
        "\n",
        "We’re going to try out [an implementation](https://github.com/jamiehadd/Math189AD-MathematicalDataScienceAndTopicModeling/blob/main/mult_ups.py) of multiplicative updates to train NMF."
      ]
    },
    {
      "cell_type": "markdown",
      "metadata": {
        "id": "EHJzlmrsO8L_"
      },
      "source": [
        "### Tasks\n",
        "\n",
        "* Visualize the NMF output of our implementation for various numbers of iterations.\n",
        "* Compare the outputs of the built-in implementation to ours for various choices of iterations!"
      ]
    },
    {
      "cell_type": "markdown",
      "metadata": {
        "id": "ciVSIqO5PFYf"
      },
      "source": [
        "The dataset we'll explore is the Swimmer dataset, which was built by Donoho and Stodden for their NeurIPS 2004 paper [When does nonnegative matrix factorization give a correct decomposition into parts?](https://proceedings.neurips.cc/paper/2003/file/1843e35d41ccf6e63273495ba42df3c1-Paper.pdf)  This is a synthetic image dataset where the data points are images of a stick-figure model of a swimmer with four limbs that occur in various positions."
      ]
    },
    {
      "cell_type": "code",
      "execution_count": null,
      "metadata": {
        "id": "eJTRfiKwN3lJ"
      },
      "outputs": [],
      "source": [
        "import scipy.io\n",
        "import numpy as np\n",
        "import matplotlib.pyplot as plt\n",
        "import warnings\n",
        "from sklearn.decomposition import NMF\n",
        "from sklearn.decomposition import PCA\n",
        "from sklearn.cluster import KMeans\n",
        "\n",
        "warnings.simplefilter(\"ignore\")                                                 #the sklearn NMF function likes to warn when we hit max_iters, so we'll suppress warnings here"
      ]
    },
    {
      "cell_type": "code",
      "execution_count": null,
      "metadata": {
        "id": "7ndFC1hJbDdS"
      },
      "outputs": [],
      "source": [
        "url=\"https://raw.githubusercontent.com/jamiehadd/Math189AD-MathematicalDataScienceAndTopicModeling/main/mult_ups.py\"\n",
        "!wget --no-cache --backups=1 {url}\n",
        "from mult_ups import mult_ups"
      ]
    },
    {
      "cell_type": "code",
      "execution_count": null,
      "metadata": {
        "id": "RGVD2HW6PShU"
      },
      "outputs": [],
      "source": [
        "from google.colab import drive\n",
        "drive.mount('/content/drive')"
      ]
    },
    {
      "cell_type": "code",
      "source": [
        "cd '/content/drive/Shareddrives/Math 189AD FA22: Datasets'"
      ],
      "metadata": {
        "id": "nURSsgcbNpHu"
      },
      "execution_count": null,
      "outputs": []
    },
    {
      "cell_type": "code",
      "execution_count": null,
      "metadata": {
        "id": "4lryEHAVPVJC"
      },
      "outputs": [],
      "source": [
        "mat = scipy.io.loadmat(\"Swimmer.mat\")                 #load the dataset\n",
        "X = mat['X']                                          #in this .mat file, the data is called X\n",
        "numPixels, numPics = X.shape                          #record the number of images in the dataset, and number of pixels in each image\n",
        "\n",
        "pic17 = np.reshape(X[:,17],(11,20));                  #grab the 17th image and reshape into image format\n",
        "pic170 = np.reshape(X[:,170],(11,20));                #grab the 170th image and reshape into image format"
      ]
    },
    {
      "cell_type": "code",
      "execution_count": null,
      "metadata": {
        "id": "DGA30c3OPfLR"
      },
      "outputs": [],
      "source": [
        "plt.figure(figsize=[15,6])\n",
        "\n",
        "plt.suptitle(\"Swimmer Images\");\n",
        "plt.subplot(1,2,1);\n",
        "plt.imshow(pic17);                                   #display images\n",
        "plt.title(\"Image 17\");\n",
        "plt.xticks([]);\n",
        "plt.yticks([]);\n",
        "\n",
        "plt.subplot(1,2,2);\n",
        "plt.imshow(pic170);\n",
        "plt.title(\"Image 170\");\n",
        "plt.xticks([]);\n",
        "plt.yticks([]);"
      ]
    },
    {
      "cell_type": "markdown",
      "metadata": {
        "id": "oxQXpjqgQm2W"
      },
      "source": [
        "Now we'll apply our NMF implementation and the built-in version in scikit-learn and compare the results!"
      ]
    },
    {
      "cell_type": "markdown",
      "metadata": {
        "id": "leY6-TrgbOF2"
      },
      "source": [
        "Let's start by running our implementation on the Swimmer dataset to produce a model of rank 10.  We'll visualize the NMF model error over the iterations of the method.  Note: this is **not** plotting error vs. model rank!"
      ]
    },
    {
      "cell_type": "code",
      "execution_count": null,
      "metadata": {
        "id": "HtV0-JvzPjtJ"
      },
      "outputs": [],
      "source": [
        "M = 150\n",
        "A, S, errs = mult_ups(X,10,M = M)"
      ]
    },
    {
      "cell_type": "code",
      "execution_count": null,
      "metadata": {
        "id": "bNsNH2nVSl-g"
      },
      "outputs": [],
      "source": [
        "plt.figure(figsize=[10,10])\n",
        "\n",
        "plt.suptitle(\"NMF Errors throughout Multiplicative Updates Iterations\");\n",
        "plt.semilogy(range(1,M+2),errs);                                                  #plot the error\n",
        "plt.xlabel(\"iteration, $n$\");\n",
        "plt.ylabel(\"model error, $\\|X - AS\\|_F^2$\");"
      ]
    },
    {
      "cell_type": "markdown",
      "metadata": {
        "id": "5IfZE_2ccz-R"
      },
      "source": [
        "Let's visualize the basis images for this trial!"
      ]
    },
    {
      "cell_type": "code",
      "execution_count": null,
      "metadata": {
        "id": "MZqCQ7ygckbg"
      },
      "outputs": [],
      "source": [
        "plt.figure(figsize=[15,5])\n",
        "\n",
        "plt.suptitle(\"NMF Basis Elements: Model Rank 10\")\n",
        "for i in range(10):\n",
        "  plt.subplot(2,5,i+1)\n",
        "  plt.imshow(np.reshape(A[:,i],(11,20)))\n",
        "  plt.xticks([])\n",
        "  plt.yticks([])"
      ]
    },
    {
      "cell_type": "markdown",
      "metadata": {
        "id": "Zpf1WS7odUPu"
      },
      "source": [
        "***Task 1:*** Compare these visualization of the outputs for various numbers of iterations!  Consider the error plot above when deciding which numbers of iterations to try."
      ]
    },
    {
      "cell_type": "code",
      "execution_count": null,
      "metadata": {
        "id": "fx6c-GiddOQb"
      },
      "outputs": [],
      "source": [
        "# FILL"
      ]
    },
    {
      "cell_type": "markdown",
      "metadata": {
        "id": "gLRUT8Zydl1O"
      },
      "source": [
        "***Task 2:*** Compare our implementation to the built-in implementation!\n",
        "\n",
        "Getting the error values at each iteration for the built-in implementation is a bit of a pain, so I show you how to do it below!"
      ]
    },
    {
      "cell_type": "code",
      "execution_count": null,
      "metadata": {
        "id": "A2zDa9JKdgWP"
      },
      "outputs": [],
      "source": [
        "M = 150                                                                         #declare number of iterations\n",
        "k = 10\n",
        "A = np.abs(np.random.randn(np.shape(X)[0], k))\n",
        "S = np.abs(np.random.randn(k, np.shape(X)[1]))\n",
        "errs = [np.linalg.norm(X-A@S,'fro')**2];\n",
        "\n",
        "for i in range(M):\n",
        "    model = NMF(n_components=k, init='custom', random_state=0, max_iter = 1, solver = 'mu')    #learn the NMF model with rank k\n",
        "    A = model.fit_transform(X,W=A,H=S)                                          #access the NMF factor matrices\n",
        "    S = model.components_\n",
        "    errs.append(np.linalg.norm(X-A@S,'fro')**2)"
      ]
    },
    {
      "cell_type": "code",
      "execution_count": null,
      "metadata": {
        "id": "rp5Q0360fx8l"
      },
      "outputs": [],
      "source": [
        "plt.figure(figsize=[10,10])\n",
        "\n",
        "plt.suptitle(\"NMF Errors throughout Multiplicative Updates Iterations\");\n",
        "plt.semilogy(range(1,M+2),errs);                                                  #plot the error\n",
        "plt.xlabel(\"iteration, $n$\");\n",
        "plt.ylabel(\"model error, $\\|X - AS\\|_F^2$\");"
      ]
    },
    {
      "cell_type": "code",
      "execution_count": null,
      "metadata": {
        "id": "1TGZiaJ3gjRM"
      },
      "outputs": [],
      "source": []
    }
  ],
  "metadata": {
    "colab": {
      "provenance": [],
      "authorship_tag": "ABX9TyNqxw+5q1TpjGEdqS45GdSW",
      "include_colab_link": true
    },
    "kernelspec": {
      "display_name": "Python 3",
      "name": "python3"
    },
    "language_info": {
      "name": "python"
    }
  },
  "nbformat": 4,
  "nbformat_minor": 0
}